{
  "nbformat": 4,
  "nbformat_minor": 0,
  "metadata": {
    "colab": {
      "provenance": []
    },
    "kernelspec": {
      "name": "python3",
      "display_name": "Python 3"
    },
    "language_info": {
      "name": "python"
    }
  },
  "cells": [
    {
      "cell_type": "code",
      "execution_count": null,
      "metadata": {
        "id": "tBS6TG3LDB6f"
      },
      "outputs": [],
      "source": [
        "import sklearn"
      ]
    },
    {
      "cell_type": "code",
      "source": [
        "from sklearn.datasets import make_circles\n",
        "\n",
        "n_samples = 1000\n",
        "\n",
        "X, y = make_circles(n_samples,\n",
        "                    noise=0.03,\n",
        "                    random_state=42)"
      ],
      "metadata": {
        "id": "sHnRoK7FaAzT"
      },
      "execution_count": null,
      "outputs": []
    },
    {
      "cell_type": "code",
      "source": [
        "print(f\"First 5 samples of X:\\n {X[:5]}\")\n",
        "print(f\"First 5 samples of y:\\n {y[:5]}\")"
      ],
      "metadata": {
        "colab": {
          "base_uri": "https://localhost:8080/"
        },
        "id": "UHw3yZJfaUqC",
        "outputId": "3e43444c-5356-47fd-f698-a27c7a839f79"
      },
      "execution_count": null,
      "outputs": [
        {
          "output_type": "stream",
          "name": "stdout",
          "text": [
            "First 5 samples of X:\n",
            " [[ 0.75424625  0.23148074]\n",
            " [-0.75615888  0.15325888]\n",
            " [-0.81539193  0.17328203]\n",
            " [-0.39373073  0.69288277]\n",
            " [ 0.44220765 -0.89672343]]\n",
            "First 5 samples of y:\n",
            " [1 1 1 1 0]\n"
          ]
        }
      ]
    },
    {
      "cell_type": "code",
      "source": [
        "# Let's make a dataframe of circle data\n",
        "import pandas as pd\n",
        "\n",
        "circles = pd.DataFrame({\"X1\": X[:, 0],\n",
        "                        \"X2\": X[:, 1],\n",
        "                        \"label\": y})\n",
        "\n",
        "circles.head(10)"
      ],
      "metadata": {
        "colab": {
          "base_uri": "https://localhost:8080/",
          "height": 363
        },
        "id": "zU-VP7AYcHnE",
        "outputId": "37875031-8141-4a4d-ffcb-c9adc6233b31"
      },
      "execution_count": null,
      "outputs": [
        {
          "output_type": "execute_result",
          "data": {
            "text/plain": [
              "         X1        X2  label\n",
              "0  0.754246  0.231481      1\n",
              "1 -0.756159  0.153259      1\n",
              "2 -0.815392  0.173282      1\n",
              "3 -0.393731  0.692883      1\n",
              "4  0.442208 -0.896723      0\n",
              "5 -0.479646  0.676435      1\n",
              "6 -0.013648  0.803349      1\n",
              "7  0.771513  0.147760      1\n",
              "8 -0.169322 -0.793456      1\n",
              "9 -0.121486  1.021509      0"
            ],
            "text/html": [
              "\n",
              "  <div id=\"df-f4dc318a-c17e-4c0f-af71-4a706a7ba0f6\" class=\"colab-df-container\">\n",
              "    <div>\n",
              "<style scoped>\n",
              "    .dataframe tbody tr th:only-of-type {\n",
              "        vertical-align: middle;\n",
              "    }\n",
              "\n",
              "    .dataframe tbody tr th {\n",
              "        vertical-align: top;\n",
              "    }\n",
              "\n",
              "    .dataframe thead th {\n",
              "        text-align: right;\n",
              "    }\n",
              "</style>\n",
              "<table border=\"1\" class=\"dataframe\">\n",
              "  <thead>\n",
              "    <tr style=\"text-align: right;\">\n",
              "      <th></th>\n",
              "      <th>X1</th>\n",
              "      <th>X2</th>\n",
              "      <th>label</th>\n",
              "    </tr>\n",
              "  </thead>\n",
              "  <tbody>\n",
              "    <tr>\n",
              "      <th>0</th>\n",
              "      <td>0.754246</td>\n",
              "      <td>0.231481</td>\n",
              "      <td>1</td>\n",
              "    </tr>\n",
              "    <tr>\n",
              "      <th>1</th>\n",
              "      <td>-0.756159</td>\n",
              "      <td>0.153259</td>\n",
              "      <td>1</td>\n",
              "    </tr>\n",
              "    <tr>\n",
              "      <th>2</th>\n",
              "      <td>-0.815392</td>\n",
              "      <td>0.173282</td>\n",
              "      <td>1</td>\n",
              "    </tr>\n",
              "    <tr>\n",
              "      <th>3</th>\n",
              "      <td>-0.393731</td>\n",
              "      <td>0.692883</td>\n",
              "      <td>1</td>\n",
              "    </tr>\n",
              "    <tr>\n",
              "      <th>4</th>\n",
              "      <td>0.442208</td>\n",
              "      <td>-0.896723</td>\n",
              "      <td>0</td>\n",
              "    </tr>\n",
              "    <tr>\n",
              "      <th>5</th>\n",
              "      <td>-0.479646</td>\n",
              "      <td>0.676435</td>\n",
              "      <td>1</td>\n",
              "    </tr>\n",
              "    <tr>\n",
              "      <th>6</th>\n",
              "      <td>-0.013648</td>\n",
              "      <td>0.803349</td>\n",
              "      <td>1</td>\n",
              "    </tr>\n",
              "    <tr>\n",
              "      <th>7</th>\n",
              "      <td>0.771513</td>\n",
              "      <td>0.147760</td>\n",
              "      <td>1</td>\n",
              "    </tr>\n",
              "    <tr>\n",
              "      <th>8</th>\n",
              "      <td>-0.169322</td>\n",
              "      <td>-0.793456</td>\n",
              "      <td>1</td>\n",
              "    </tr>\n",
              "    <tr>\n",
              "      <th>9</th>\n",
              "      <td>-0.121486</td>\n",
              "      <td>1.021509</td>\n",
              "      <td>0</td>\n",
              "    </tr>\n",
              "  </tbody>\n",
              "</table>\n",
              "</div>\n",
              "    <div class=\"colab-df-buttons\">\n",
              "\n",
              "  <div class=\"colab-df-container\">\n",
              "    <button class=\"colab-df-convert\" onclick=\"convertToInteractive('df-f4dc318a-c17e-4c0f-af71-4a706a7ba0f6')\"\n",
              "            title=\"Convert this dataframe to an interactive table.\"\n",
              "            style=\"display:none;\">\n",
              "\n",
              "  <svg xmlns=\"http://www.w3.org/2000/svg\" height=\"24px\" viewBox=\"0 -960 960 960\">\n",
              "    <path d=\"M120-120v-720h720v720H120Zm60-500h600v-160H180v160Zm220 220h160v-160H400v160Zm0 220h160v-160H400v160ZM180-400h160v-160H180v160Zm440 0h160v-160H620v160ZM180-180h160v-160H180v160Zm440 0h160v-160H620v160Z\"/>\n",
              "  </svg>\n",
              "    </button>\n",
              "\n",
              "  <style>\n",
              "    .colab-df-container {\n",
              "      display:flex;\n",
              "      gap: 12px;\n",
              "    }\n",
              "\n",
              "    .colab-df-convert {\n",
              "      background-color: #E8F0FE;\n",
              "      border: none;\n",
              "      border-radius: 50%;\n",
              "      cursor: pointer;\n",
              "      display: none;\n",
              "      fill: #1967D2;\n",
              "      height: 32px;\n",
              "      padding: 0 0 0 0;\n",
              "      width: 32px;\n",
              "    }\n",
              "\n",
              "    .colab-df-convert:hover {\n",
              "      background-color: #E2EBFA;\n",
              "      box-shadow: 0px 1px 2px rgba(60, 64, 67, 0.3), 0px 1px 3px 1px rgba(60, 64, 67, 0.15);\n",
              "      fill: #174EA6;\n",
              "    }\n",
              "\n",
              "    .colab-df-buttons div {\n",
              "      margin-bottom: 4px;\n",
              "    }\n",
              "\n",
              "    [theme=dark] .colab-df-convert {\n",
              "      background-color: #3B4455;\n",
              "      fill: #D2E3FC;\n",
              "    }\n",
              "\n",
              "    [theme=dark] .colab-df-convert:hover {\n",
              "      background-color: #434B5C;\n",
              "      box-shadow: 0px 1px 3px 1px rgba(0, 0, 0, 0.15);\n",
              "      filter: drop-shadow(0px 1px 2px rgba(0, 0, 0, 0.3));\n",
              "      fill: #FFFFFF;\n",
              "    }\n",
              "  </style>\n",
              "\n",
              "    <script>\n",
              "      const buttonEl =\n",
              "        document.querySelector('#df-f4dc318a-c17e-4c0f-af71-4a706a7ba0f6 button.colab-df-convert');\n",
              "      buttonEl.style.display =\n",
              "        google.colab.kernel.accessAllowed ? 'block' : 'none';\n",
              "\n",
              "      async function convertToInteractive(key) {\n",
              "        const element = document.querySelector('#df-f4dc318a-c17e-4c0f-af71-4a706a7ba0f6');\n",
              "        const dataTable =\n",
              "          await google.colab.kernel.invokeFunction('convertToInteractive',\n",
              "                                                    [key], {});\n",
              "        if (!dataTable) return;\n",
              "\n",
              "        const docLinkHtml = 'Like what you see? Visit the ' +\n",
              "          '<a target=\"_blank\" href=https://colab.research.google.com/notebooks/data_table.ipynb>data table notebook</a>'\n",
              "          + ' to learn more about interactive tables.';\n",
              "        element.innerHTML = '';\n",
              "        dataTable['output_type'] = 'display_data';\n",
              "        await google.colab.output.renderOutput(dataTable, element);\n",
              "        const docLink = document.createElement('div');\n",
              "        docLink.innerHTML = docLinkHtml;\n",
              "        element.appendChild(docLink);\n",
              "      }\n",
              "    </script>\n",
              "  </div>\n",
              "\n",
              "\n",
              "<div id=\"df-bfc0081d-996c-461b-a30c-3117b7a3c970\">\n",
              "  <button class=\"colab-df-quickchart\" onclick=\"quickchart('df-bfc0081d-996c-461b-a30c-3117b7a3c970')\"\n",
              "            title=\"Suggest charts\"\n",
              "            style=\"display:none;\">\n",
              "\n",
              "<svg xmlns=\"http://www.w3.org/2000/svg\" height=\"24px\"viewBox=\"0 0 24 24\"\n",
              "     width=\"24px\">\n",
              "    <g>\n",
              "        <path d=\"M19 3H5c-1.1 0-2 .9-2 2v14c0 1.1.9 2 2 2h14c1.1 0 2-.9 2-2V5c0-1.1-.9-2-2-2zM9 17H7v-7h2v7zm4 0h-2V7h2v10zm4 0h-2v-4h2v4z\"/>\n",
              "    </g>\n",
              "</svg>\n",
              "  </button>\n",
              "\n",
              "<style>\n",
              "  .colab-df-quickchart {\n",
              "      --bg-color: #E8F0FE;\n",
              "      --fill-color: #1967D2;\n",
              "      --hover-bg-color: #E2EBFA;\n",
              "      --hover-fill-color: #174EA6;\n",
              "      --disabled-fill-color: #AAA;\n",
              "      --disabled-bg-color: #DDD;\n",
              "  }\n",
              "\n",
              "  [theme=dark] .colab-df-quickchart {\n",
              "      --bg-color: #3B4455;\n",
              "      --fill-color: #D2E3FC;\n",
              "      --hover-bg-color: #434B5C;\n",
              "      --hover-fill-color: #FFFFFF;\n",
              "      --disabled-bg-color: #3B4455;\n",
              "      --disabled-fill-color: #666;\n",
              "  }\n",
              "\n",
              "  .colab-df-quickchart {\n",
              "    background-color: var(--bg-color);\n",
              "    border: none;\n",
              "    border-radius: 50%;\n",
              "    cursor: pointer;\n",
              "    display: none;\n",
              "    fill: var(--fill-color);\n",
              "    height: 32px;\n",
              "    padding: 0;\n",
              "    width: 32px;\n",
              "  }\n",
              "\n",
              "  .colab-df-quickchart:hover {\n",
              "    background-color: var(--hover-bg-color);\n",
              "    box-shadow: 0 1px 2px rgba(60, 64, 67, 0.3), 0 1px 3px 1px rgba(60, 64, 67, 0.15);\n",
              "    fill: var(--button-hover-fill-color);\n",
              "  }\n",
              "\n",
              "  .colab-df-quickchart-complete:disabled,\n",
              "  .colab-df-quickchart-complete:disabled:hover {\n",
              "    background-color: var(--disabled-bg-color);\n",
              "    fill: var(--disabled-fill-color);\n",
              "    box-shadow: none;\n",
              "  }\n",
              "\n",
              "  .colab-df-spinner {\n",
              "    border: 2px solid var(--fill-color);\n",
              "    border-color: transparent;\n",
              "    border-bottom-color: var(--fill-color);\n",
              "    animation:\n",
              "      spin 1s steps(1) infinite;\n",
              "  }\n",
              "\n",
              "  @keyframes spin {\n",
              "    0% {\n",
              "      border-color: transparent;\n",
              "      border-bottom-color: var(--fill-color);\n",
              "      border-left-color: var(--fill-color);\n",
              "    }\n",
              "    20% {\n",
              "      border-color: transparent;\n",
              "      border-left-color: var(--fill-color);\n",
              "      border-top-color: var(--fill-color);\n",
              "    }\n",
              "    30% {\n",
              "      border-color: transparent;\n",
              "      border-left-color: var(--fill-color);\n",
              "      border-top-color: var(--fill-color);\n",
              "      border-right-color: var(--fill-color);\n",
              "    }\n",
              "    40% {\n",
              "      border-color: transparent;\n",
              "      border-right-color: var(--fill-color);\n",
              "      border-top-color: var(--fill-color);\n",
              "    }\n",
              "    60% {\n",
              "      border-color: transparent;\n",
              "      border-right-color: var(--fill-color);\n",
              "    }\n",
              "    80% {\n",
              "      border-color: transparent;\n",
              "      border-right-color: var(--fill-color);\n",
              "      border-bottom-color: var(--fill-color);\n",
              "    }\n",
              "    90% {\n",
              "      border-color: transparent;\n",
              "      border-bottom-color: var(--fill-color);\n",
              "    }\n",
              "  }\n",
              "</style>\n",
              "\n",
              "  <script>\n",
              "    async function quickchart(key) {\n",
              "      const quickchartButtonEl =\n",
              "        document.querySelector('#' + key + ' button');\n",
              "      quickchartButtonEl.disabled = true;  // To prevent multiple clicks.\n",
              "      quickchartButtonEl.classList.add('colab-df-spinner');\n",
              "      try {\n",
              "        const charts = await google.colab.kernel.invokeFunction(\n",
              "            'suggestCharts', [key], {});\n",
              "      } catch (error) {\n",
              "        console.error('Error during call to suggestCharts:', error);\n",
              "      }\n",
              "      quickchartButtonEl.classList.remove('colab-df-spinner');\n",
              "      quickchartButtonEl.classList.add('colab-df-quickchart-complete');\n",
              "    }\n",
              "    (() => {\n",
              "      let quickchartButtonEl =\n",
              "        document.querySelector('#df-bfc0081d-996c-461b-a30c-3117b7a3c970 button');\n",
              "      quickchartButtonEl.style.display =\n",
              "        google.colab.kernel.accessAllowed ? 'block' : 'none';\n",
              "    })();\n",
              "  </script>\n",
              "</div>\n",
              "\n",
              "    </div>\n",
              "  </div>\n"
            ],
            "application/vnd.google.colaboratory.intrinsic+json": {
              "type": "dataframe",
              "variable_name": "circles",
              "summary": "{\n  \"name\": \"circles\",\n  \"rows\": 1000,\n  \"fields\": [\n    {\n      \"column\": \"X1\",\n      \"properties\": {\n        \"dtype\": \"number\",\n        \"std\": 0.6398365674574613,\n        \"min\": -1.0595024599098635,\n        \"max\": 1.0337117525463373,\n        \"samples\": [\n          -0.3751930206933384,\n          0.015380346701456493,\n          -0.7027835978832848\n        ],\n        \"num_unique_values\": 1000,\n        \"semantic_type\": \"\",\n        \"description\": \"\"\n      }\n    },\n    {\n      \"column\": \"X2\",\n      \"properties\": {\n        \"dtype\": \"number\",\n        \"std\": 0.6411559581015384,\n        \"min\": -1.0677683182718436,\n        \"max\": 1.0360036756154805,\n        \"samples\": [\n          0.6826597225888621,\n          0.9600260220697324,\n          -0.3147169925147762\n        ],\n        \"num_unique_values\": 1000,\n        \"semantic_type\": \"\",\n        \"description\": \"\"\n      }\n    },\n    {\n      \"column\": \"label\",\n      \"properties\": {\n        \"dtype\": \"number\",\n        \"std\": 0,\n        \"min\": 0,\n        \"max\": 1,\n        \"samples\": [\n          0,\n          1\n        ],\n        \"num_unique_values\": 2,\n        \"semantic_type\": \"\",\n        \"description\": \"\"\n      }\n    }\n  ]\n}"
            }
          },
          "metadata": {},
          "execution_count": 5
        }
      ]
    },
    {
      "cell_type": "code",
      "source": [
        "import matplotlib.pyplot as plt\n",
        "\n",
        "plt.scatter(x=X[:, 0],\n",
        "            y=X[:, 1],\n",
        "            c=y,\n",
        "            cmap = plt.cm.RdYlBu\n",
        "            )"
      ],
      "metadata": {
        "colab": {
          "base_uri": "https://localhost:8080/",
          "height": 447
        },
        "id": "sUS15SBodBjl",
        "outputId": "efb10b59-115e-461e-bd20-6abff6be6c12"
      },
      "execution_count": null,
      "outputs": [
        {
          "output_type": "execute_result",
          "data": {
            "text/plain": [
              "<matplotlib.collections.PathCollection at 0x7bc4ceb439d0>"
            ]
          },
          "metadata": {},
          "execution_count": 6
        },
        {
          "output_type": "display_data",
          "data": {
            "text/plain": [
              "<Figure size 640x480 with 1 Axes>"
            ],
            "image/png": "[encoded data removed]"
          },
          "metadata": {}
        }
      ]
    },
    {
      "cell_type": "code",
      "source": [
        "import torch\n",
        "torch.__version__"
      ],
      "metadata": {
        "colab": {
          "base_uri": "https://localhost:8080/",
          "height": 35
        },
        "id": "SRE48UzVdEsC",
        "outputId": "4d75371b-e1ef-4ef2-e5aa-9acffa8511b4"
      },
      "execution_count": null,
      "outputs": [
        {
          "output_type": "execute_result",
          "data": {
            "text/plain": [
              "'2.1.0+cu121'"
            ],
            "application/vnd.google.colaboratory.intrinsic+json": {
              "type": "string"
            }
          },
          "metadata": {},
          "execution_count": 7
        }
      ]
    },
    {
      "cell_type": "code",
      "source": [
        "type(X)"
      ],
      "metadata": {
        "colab": {
          "base_uri": "https://localhost:8080/"
        },
        "id": "6K8NFKG9dEpG",
        "outputId": "09740c24-f279-4d53-b301-13a30e68666e"
      },
      "execution_count": null,
      "outputs": [
        {
          "output_type": "execute_result",
          "data": {
            "text/plain": [
              "numpy.ndarray"
            ]
          },
          "metadata": {},
          "execution_count": 8
        }
      ]
    },
    {
      "cell_type": "code",
      "source": [
        "# Turn data into tensors\n",
        "\n",
        "X = torch.from_numpy(X).type(torch.float)\n",
        "y = torch.from_numpy(y).type(torch.float)"
      ],
      "metadata": {
        "id": "06YxkZxtdEiJ"
      },
      "execution_count": null,
      "outputs": []
    },
    {
      "cell_type": "code",
      "source": [
        "type(X), X.dtype, y.dtype"
      ],
      "metadata": {
        "colab": {
          "base_uri": "https://localhost:8080/"
        },
        "id": "FbUAsj8LdEgF",
        "outputId": "b33c2698-0220-468c-d44d-ba6a2788440f"
      },
      "execution_count": null,
      "outputs": [
        {
          "output_type": "execute_result",
          "data": {
            "text/plain": [
              "(torch.Tensor, torch.float32, torch.float32)"
            ]
          },
          "metadata": {},
          "execution_count": 10
        }
      ]
    },
    {
      "cell_type": "code",
      "source": [
        "# Split data into training and test sets\n",
        "from sklearn.model_selection import train_test_split\n",
        "\n",
        "X_train, X_test, y_train, y_test = train_test_split(X,\n",
        "                                                    y,\n",
        "                                                    test_size=0.2,\n",
        "                                                    random_state=42)"
      ],
      "metadata": {
        "id": "TOIEKdxndEd4"
      },
      "execution_count": null,
      "outputs": []
    },
    {
      "cell_type": "code",
      "source": [
        "len(X_train), len(X_test), len(y_train), len(y_test)"
      ],
      "metadata": {
        "colab": {
          "base_uri": "https://localhost:8080/"
        },
        "id": "niqGGS05vyPj",
        "outputId": "05ca89cd-bfda-449a-ffbf-52d124a6fec9"
      },
      "execution_count": null,
      "outputs": [
        {
          "output_type": "execute_result",
          "data": {
            "text/plain": [
              "(800, 200, 800, 200)"
            ]
          },
          "metadata": {},
          "execution_count": 12
        }
      ]
    },
    {
      "cell_type": "markdown",
      "source": [
        "## 2. Building a Model\n",
        "\n",
        "Let's build a model to classify our blue and red dots.\n",
        "\n",
        "To do so, we want to:\n",
        "\n",
        "1. Setup device agnostic code so that our code will run on accelerator (GPU) if there is one.\n",
        "2. Construct a model (by subclassing `nn.Module`)\n",
        "3. Define a loss function and optimizer\n",
        "4. Create a training and test loop"
      ],
      "metadata": {
        "id": "5Zq6zzdIvyNV"
      }
    },
    {
      "cell_type": "code",
      "source": [
        "import torch\n",
        "from torch import nn\n",
        "\n",
        "device = \"cuda\" if torch.cuda.is_available() else \"cpu\"\n",
        "device"
      ],
      "metadata": {
        "colab": {
          "base_uri": "https://localhost:8080/",
          "height": 35
        },
        "id": "CTpGmqJ2xbbL",
        "outputId": "fa37e2b3-b3a9-43b4-97e7-667c5f6e1afa"
      },
      "execution_count": null,
      "outputs": [
        {
          "output_type": "execute_result",
          "data": {
            "text/plain": [
              "'cpu'"
            ],
            "application/vnd.google.colaboratory.intrinsic+json": {
              "type": "string"
            }
          },
          "metadata": {},
          "execution_count": 13
        }
      ]
    },
    {
      "cell_type": "markdown",
      "source": [
        "Now that we've setup device agnostic code, let's create a model that:\n",
        "\n",
        "1. Subclasses `nn.Module`\n",
        "2. Create 2 `nn.Linear()` layers that are capable of handling the shapes of our data.\n",
        "3. Define a `forward()` method that outlines the forward pass.\n",
        "4. Instantiate an instance of our model class and send it to the target `device`"
      ],
      "metadata": {
        "id": "2uZNWi9sxbXp"
      }
    },
    {
      "cell_type": "code",
      "source": [
        "# 1. Constructing a model that subclasses nn.Module\n",
        "class CircleModelV0(nn.Module):\n",
        "  def __init__(self):\n",
        "    super().__init__()\n",
        "\n",
        "    # 2. Creating 2 Linear layers\n",
        "    self.layer_1 = nn.Linear(in_features=2, out_features=5) # takes in 2 features and upscales it to 5.\n",
        "    self.layer_2 = nn.Linear(in_features=5, out_features=1) # takes in 5 features from the previous layers and outputs 1 feature becuase that's the dimension of y.\n",
        "\n",
        "  # 3. forward method\n",
        "  def forward(self, x):\n",
        "    return self.layer_2(self.layer_1(x))\n",
        "\n",
        "# 4. Instantiating an instance of our model class and sending it to the target device\n",
        "model_0 = CircleModelV0().to(device)\n",
        "model_0"
      ],
      "metadata": {
        "colab": {
          "base_uri": "https://localhost:8080/"
        },
        "id": "0VnsClaFxbU6",
        "outputId": "c7ad58b6-9d86-49b7-ebf8-5825923723a4"
      },
      "execution_count": null,
      "outputs": [
        {
          "output_type": "execute_result",
          "data": {
            "text/plain": [
              "CircleModelV0(\n",
              "  (layer_1): Linear(in_features=2, out_features=5, bias=True)\n",
              "  (layer_2): Linear(in_features=5, out_features=1, bias=True)\n",
              ")"
            ]
          },
          "metadata": {},
          "execution_count": 14
        }
      ]
    },
    {
      "cell_type": "code",
      "source": [
        "device"
      ],
      "metadata": {
        "colab": {
          "base_uri": "https://localhost:8080/",
          "height": 35
        },
        "id": "IwE0g_x1xbSP",
        "outputId": "768eb8a6-51b2-46ad-826e-0beaa8ddaa52"
      },
      "execution_count": null,
      "outputs": [
        {
          "output_type": "execute_result",
          "data": {
            "text/plain": [
              "'cpu'"
            ],
            "application/vnd.google.colaboratory.intrinsic+json": {
              "type": "string"
            }
          },
          "metadata": {},
          "execution_count": 15
        }
      ]
    },
    {
      "cell_type": "code",
      "source": [
        "next(model_0.parameters()).device"
      ],
      "metadata": {
        "colab": {
          "base_uri": "https://localhost:8080/"
        },
        "id": "kvQWQKB0vyLB",
        "outputId": "260630b1-38c9-4663-950b-0fb5d3783a96"
      },
      "execution_count": null,
      "outputs": [
        {
          "output_type": "execute_result",
          "data": {
            "text/plain": [
              "device(type='cpu')"
            ]
          },
          "metadata": {},
          "execution_count": 16
        }
      ]
    },
    {
      "cell_type": "code",
      "source": [
        "# replicating the above model using nn.Sequential()\n",
        "\n",
        "model_0 = nn.Sequential(\n",
        "    nn.Linear(in_features=2, out_features=5),\n",
        "    nn.Linear(in_features=5, out_features=1)\n",
        ").to(device)\n",
        "\n",
        "model_0"
      ],
      "metadata": {
        "colab": {
          "base_uri": "https://localhost:8080/"
        },
        "id": "kEospJKEvyIm",
        "outputId": "238fffcc-6def-4600-cf07-d647f4700998"
      },
      "execution_count": null,
      "outputs": [
        {
          "output_type": "execute_result",
          "data": {
            "text/plain": [
              "Sequential(\n",
              "  (0): Linear(in_features=2, out_features=5, bias=True)\n",
              "  (1): Linear(in_features=5, out_features=1, bias=True)\n",
              ")"
            ]
          },
          "metadata": {},
          "execution_count": 24
        }
      ]
    },
    {
      "cell_type": "code",
      "source": [
        "model_0.state_dict()"
      ],
      "metadata": {
        "colab": {
          "base_uri": "https://localhost:8080/"
        },
        "id": "xMVLr453fX-C",
        "outputId": "fe052156-a187-44b6-e803-415c398eebff"
      },
      "execution_count": null,
      "outputs": [
        {
          "output_type": "execute_result",
          "data": {
            "text/plain": [
              "OrderedDict([('0.weight',\n",
              "              tensor([[ 0.0567, -0.4346],\n",
              "                      [ 0.1224, -0.2464],\n",
              "                      [-0.4188, -0.2012],\n",
              "                      [-0.2424,  0.4991],\n",
              "                      [ 0.6833,  0.2514]])),\n",
              "             ('0.bias', tensor([ 0.3478,  0.4219, -0.1902, -0.5760,  0.2092])),\n",
              "             ('1.weight',\n",
              "              tensor([[-0.2694,  0.0248,  0.0161, -0.1714, -0.0572]])),\n",
              "             ('1.bias', tensor([0.4131]))])"
            ]
          },
          "metadata": {},
          "execution_count": 18
        }
      ]
    },
    {
      "cell_type": "markdown",
      "source": [
        "### 2.1 Setup loss function and optimizer\n",
        "\n",
        "Choosing a loss function is problem specific and usually for regression you might want to use MAE(L1) or MSE. Whereas for classification tasks you might want to use Binary Cross Entropy Loss (Binary Classification) or Categorical Cross Entropy Loss (Multiclass Classification)."
      ],
      "metadata": {
        "id": "z8_sAv7pfX6a"
      }
    },
    {
      "cell_type": "code",
      "source": [
        "# Setup Loss function\n",
        "# loss_fn = nn.BCELoss() # BCELoss requires inputs to have gone through the sigmoid activation function prior to input to BCELoss\n",
        "loss_fn = nn.BCEWithLogitsLoss() # BCEWithLogitsLoss has a sigmoid activation function built-in\n",
        "\n",
        "optimizer = torch.optim.SGD(params=model_0.parameters(),\n",
        "                            lr=0.1)"
      ],
      "metadata": {
        "id": "2l4dMkd7fX4A"
      },
      "execution_count": null,
      "outputs": []
    },
    {
      "cell_type": "code",
      "source": [
        "def accuracy_fn(y_true, y_pred):\n",
        "  correct = torch.eq(y_true, y_pred).sum().item()\n",
        "  acc = (correct/len(y_true)) * 100\n",
        "  return acc"
      ],
      "metadata": {
        "id": "yBEfxDaEfX1z"
      },
      "execution_count": null,
      "outputs": []
    },
    {
      "cell_type": "markdown",
      "source": [
        "## 3.1 Going from raw logits to prediction probabilities\n",
        "\n",
        "Our model ouputs are going to be raw **logits**.\n",
        "\n",
        "We can convert these **logits** into **prediction probabilities** by passing them to some kind of activation function (e.g. sigmoid for binary classification and softmax for multiclass classification).\n",
        "\n",
        "Then we can convert our model's prediction probabilities to **prediction labels** by either rounding them or taking the `argmax()`.\n"
      ],
      "metadata": {
        "id": "1ZsF4pEvfXzR"
      }
    },
    {
      "cell_type": "code",
      "source": [
        "# View the first 5 outputs of the forward pass on the test data.\n",
        "\n",
        "model_0.eval()\n",
        "with torch.inference_mode():\n",
        "  y_logits = model_0(X_test.to(device))[:5]\n",
        "y_logits"
      ],
      "metadata": {
        "colab": {
          "base_uri": "https://localhost:8080/"
        },
        "id": "bVIFTBYPOtZP",
        "outputId": "4e81e9f7-1375-43fb-d2c1-5bf440f1cbe0"
      },
      "execution_count": null,
      "outputs": [
        {
          "output_type": "execute_result",
          "data": {
            "text/plain": [
              "tensor([[ 0.0332],\n",
              "        [-0.0208],\n",
              "        [ 0.1107],\n",
              "        [ 0.0115],\n",
              "        [ 0.0088]])"
            ]
          },
          "metadata": {},
          "execution_count": 67
        }
      ]
    },
    {
      "cell_type": "code",
      "source": [
        "y_pred_probs = torch.sigmoid(y_logits)\n",
        "y_pred_probs, y_pred_probs.shape"
      ],
      "metadata": {
        "colab": {
          "base_uri": "https://localhost:8080/"
        },
        "id": "11GSXXqoR__a",
        "outputId": "78463767-687d-47d4-c7ec-c8de9729cc5d"
      },
      "execution_count": null,
      "outputs": [
        {
          "output_type": "execute_result",
          "data": {
            "text/plain": [
              "(tensor([[0.5083],\n",
              "         [0.4948],\n",
              "         [0.5276],\n",
              "         [0.5029],\n",
              "         [0.5022]]),\n",
              " torch.Size([5, 1]))"
            ]
          },
          "metadata": {},
          "execution_count": 68
        }
      ]
    },
    {
      "cell_type": "code",
      "source": [
        "# Find the predicted labels\n",
        "y_preds = torch.round(y_pred_probs)\n",
        "# print(y_preds.squeeze().shape)\n",
        "# raise\n",
        "\n",
        "# In full (logits -> pred probs -> pred labels)\n",
        "y_pred_labels = torch.round(torch.sigmoid(model_0(X_test.to(device))[:5]))\n",
        "# print(y_preds.squeeze().shape)\n",
        "# raise\n",
        "\n",
        "# Check for equality\n",
        "print(torch.eq(y_preds.squeeze(), y_pred_labels.squeeze()))"
      ],
      "metadata": {
        "colab": {
          "base_uri": "https://localhost:8080/"
        },
        "id": "NBpp8dByOtV3",
        "outputId": "b80dd56b-3bc0-4a61-f412-b63e4baf6fd7"
      },
      "execution_count": null,
      "outputs": [
        {
          "output_type": "stream",
          "name": "stdout",
          "text": [
            "tensor([True, True, True, True, True])\n"
          ]
        }
      ]
    },
    {
      "cell_type": "code",
      "source": [
        "### 3.2 Building a training and testing loop\n",
        "torch.manual_seed(42)\n",
        "\n",
        "epochs = 100\n",
        "\n",
        "for epoch in range(epochs):\n",
        "  model_0.train()\n",
        "\n",
        "  y_logits = model_0(X_train).squeeze()\n",
        "  # print(y_logits.shape)\n",
        "  # raise\n",
        "\n",
        "  y_preds = torch.round(torch.sigmoid(y_logits))\n",
        "  # print(y_pred_probs.shape)\n",
        "  # raise\n",
        "  # y_preds = torch.round(y_pred_probs)\n",
        "\n",
        "  train_loss = loss_fn(y_logits, y_train) # y_logits because we are using the loss function BCEWithLogitsLoss() and it take the input as logits and we are using this loss function because it provides numerical stability.\n",
        "\n",
        "  acc = accuracy_fn(y_true=y_train, y_pred = y_preds)\n",
        "\n",
        "  optimizer.zero_grad()\n",
        "\n",
        "  train_loss.backward()\n",
        "\n",
        "  optimizer.step()\n",
        "\n",
        "  ### Testing\n",
        "  model_0.eval()\n",
        "  with torch.inference_mode():\n",
        "    test_logits = model_0(X_test).squeeze()\n",
        "    test_preds = torch.round(torch.sigmoid(test_logits))\n",
        "\n",
        "    test_loss = loss_fn(test_logits, y_test)\n",
        "    test_acc = accuracy_fn(y_true=y_test, y_pred=test_preds)\n",
        "\n",
        "  if epoch%10 == 0:\n",
        "    print(f\"Epoch: {epoch+1}/{epochs} | Train loss: {train_loss:.5f}, Train acc: {acc:.2f}% | Test loss: {test_loss:.5f}, Test acc: {test_acc:.2f}%\")"
      ],
      "metadata": {
        "colab": {
          "base_uri": "https://localhost:8080/"
        },
        "id": "ZygnPRaeQA24",
        "outputId": "3efb9b42-0296-45fa-fc5f-54fc8fa84cc7"
      },
      "execution_count": null,
      "outputs": [
        {
          "output_type": "stream",
          "name": "stdout",
          "text": [
            "Epoch: 1/100 | Train loss: 0.69302, Train acc: 50.38% | Test loss: 0.69413, Test acc: 46.00%\n",
            "Epoch: 11/100 | Train loss: 0.69301, Train acc: 51.00% | Test loss: 0.69418, Test acc: 45.00%\n",
            "Epoch: 21/100 | Train loss: 0.69301, Train acc: 50.50% | Test loss: 0.69422, Test acc: 46.00%\n",
            "Epoch: 31/100 | Train loss: 0.69300, Train acc: 50.88% | Test loss: 0.69426, Test acc: 47.00%\n",
            "Epoch: 41/100 | Train loss: 0.69300, Train acc: 50.50% | Test loss: 0.69430, Test acc: 45.50%\n",
            "Epoch: 51/100 | Train loss: 0.69300, Train acc: 50.50% | Test loss: 0.69433, Test acc: 46.00%\n",
            "Epoch: 61/100 | Train loss: 0.69299, Train acc: 50.88% | Test loss: 0.69436, Test acc: 46.50%\n",
            "Epoch: 71/100 | Train loss: 0.69299, Train acc: 50.75% | Test loss: 0.69439, Test acc: 48.00%\n",
            "Epoch: 81/100 | Train loss: 0.69299, Train acc: 51.12% | Test loss: 0.69441, Test acc: 47.50%\n",
            "Epoch: 91/100 | Train loss: 0.69299, Train acc: 51.00% | Test loss: 0.69444, Test acc: 47.50%\n"
          ]
        }
      ]
    },
    {
      "cell_type": "markdown",
      "source": [
        "## 4. Make predictions and evaluate the model.\n",
        "\n",
        "From the metrics it looks like our model isn't learning anything ...\n",
        "(I believe it is because we did not use any non linear activation functions)"
      ],
      "metadata": {
        "id": "TsPUy1HfQAzW"
      }
    },
    {
      "cell_type": "code",
      "source": [
        "# import requests\n",
        "# from pathlib import Path\n",
        "\n",
        "# if Path(\"helper_functions.py\").is_file():\n",
        "#   print(\"helper_functions.py already exists, skipping download\")\n",
        "# else:\n",
        "#   print(\"Downloading helper_functions.py\")\n",
        "#   request = requests.get(\"https://raw.githubusercontent.com/mrdbourke/pytorch-deep-learning/main/helper_functions.py\")\n",
        "#   with open(\"helper_functions.py\", \"wb\") as f:\n",
        "#     f.write(request.content)\n",
        "\n",
        "# from helper_functions import plot_predictions, plot_decision_boundary\n"
      ],
      "metadata": {
        "id": "AapnJH0SQAxD"
      },
      "execution_count": null,
      "outputs": []
    },
    {
      "cell_type": "markdown",
      "source": [],
      "metadata": {
        "id": "sPksWjbsQAuT"
      }
    },
    {
      "cell_type": "code",
      "source": [
        "# 1. Constructing a model that subclasses nn.Module\n",
        "class CircleModelV1(nn.Module):\n",
        "  def __init__(self):\n",
        "    super().__init__()\n",
        "\n",
        "    # 2. Creating 2 Linear layers\n",
        "    self.layer_1 = nn.Linear(in_features=2, out_features=8) # takes in 2 features and upscales it to 5.\n",
        "    self.layer_2 = nn.Linear(in_features=8, out_features=8) # takes in 5 features from the previous layers and outputs 1 feature becuase that's the dimension of y.\n",
        "    self.layer_3 = nn.Linear(in_features=8, out_features=1)\n",
        "    self.relu = nn.ReLU()\n",
        "\n",
        "  # 3. forward method\n",
        "  def forward(self, x):\n",
        "    return self.layer_3(self.relu(self.layer_2(self.relu(self.layer_1(x)))))\n",
        "\n",
        "# 4. Instantiating an instance of our model class and sending it to the target device\n",
        "model_1 = CircleModelV1().to(device)\n",
        "model_1"
      ],
      "metadata": {
        "colab": {
          "base_uri": "https://localhost:8080/"
        },
        "id": "gXg8gnbaOtTd",
        "outputId": "15bd7170-94e8-4841-9239-594b08493860"
      },
      "execution_count": null,
      "outputs": [
        {
          "output_type": "execute_result",
          "data": {
            "text/plain": [
              "CircleModelV1(\n",
              "  (layer_1): Linear(in_features=2, out_features=8, bias=True)\n",
              "  (layer_2): Linear(in_features=8, out_features=8, bias=True)\n",
              "  (layer_3): Linear(in_features=8, out_features=1, bias=True)\n",
              "  (relu): ReLU()\n",
              ")"
            ]
          },
          "metadata": {},
          "execution_count": 88
        }
      ]
    },
    {
      "cell_type": "code",
      "source": [
        "model_1.state_dict()"
      ],
      "metadata": {
        "colab": {
          "base_uri": "https://localhost:8080/"
        },
        "id": "luAN4R2yOtQ0",
        "outputId": "a882d833-88de-42cf-b4c5-4bb181ee1c11"
      },
      "execution_count": null,
      "outputs": [
        {
          "output_type": "execute_result",
          "data": {
            "text/plain": [
              "OrderedDict([('layer_1.weight',\n",
              "              tensor([[-0.4830, -0.5999],\n",
              "                      [-0.3894, -0.6189],\n",
              "                      [-0.4502,  0.7068],\n",
              "                      [ 0.1336,  0.2179],\n",
              "                      [-0.6595, -0.4644],\n",
              "                      [-0.2354,  0.1106],\n",
              "                      [-0.6222, -0.3047],\n",
              "                      [-0.4233,  0.0020]])),\n",
              "             ('layer_1.bias',\n",
              "              tensor([-0.2631, -0.0490, -0.4792, -0.4854, -0.4125, -0.2420, -0.5581,  0.5929])),\n",
              "             ('layer_2.weight',\n",
              "              tensor([[-0.0702,  0.3042,  0.1102, -0.2994,  0.2447, -0.0973, -0.1355, -0.2935],\n",
              "                      [-0.3515,  0.1012, -0.0772,  0.1376, -0.2901,  0.2625, -0.2595, -0.0610],\n",
              "                      [ 0.0738,  0.1825,  0.2854,  0.3221, -0.2803,  0.0890, -0.1521, -0.0387],\n",
              "                      [-0.2646,  0.3220, -0.2595,  0.1890,  0.1243,  0.1149, -0.1911,  0.3214],\n",
              "                      [ 0.0777,  0.0455, -0.3116,  0.1484, -0.0530, -0.1620,  0.3037,  0.0788],\n",
              "                      [-0.1956, -0.1789, -0.0169,  0.1974, -0.0903, -0.2017, -0.1211, -0.2641],\n",
              "                      [ 0.1261,  0.2737, -0.3328,  0.0821,  0.1826,  0.0641, -0.1259,  0.1845],\n",
              "                      [ 0.1858,  0.1322, -0.0621, -0.0936,  0.0378, -0.0625, -0.1054,  0.2260]])),\n",
              "             ('layer_2.bias',\n",
              "              tensor([ 0.3038, -0.0350, -0.0792,  0.0052, -0.0211,  0.0850,  0.0991, -0.3211])),\n",
              "             ('layer_3.weight',\n",
              "              tensor([[-0.1305,  0.2977,  0.1377, -0.0176, -0.2132, -0.2163, -0.3167, -0.1152]])),\n",
              "             ('layer_3.bias', tensor([0.1194]))])"
            ]
          },
          "metadata": {},
          "execution_count": 89
        }
      ]
    },
    {
      "cell_type": "code",
      "source": [
        "# Setup Loss function\n",
        "# loss_fn = nn.BCELoss() # BCELoss requires inputs to have gone through the sigmoid activation function prior to input to BCELoss\n",
        "loss_fn = nn.BCEWithLogitsLoss() # BCEWithLogitsLoss has a sigmoid activation function built-in\n",
        "\n",
        "optimizer = torch.optim.Adam(params=model_1.parameters(),\n",
        "                            lr=0.1)"
      ],
      "metadata": {
        "id": "C_SWjBOFvTDE"
      },
      "execution_count": null,
      "outputs": []
    },
    {
      "cell_type": "code",
      "source": [
        "### 3.2 Building a training and testing loop\n",
        "torch.manual_seed(42)\n",
        "\n",
        "epochs = 100\n",
        "\n",
        "for epoch in range(epochs):\n",
        "  model_1.train()\n",
        "\n",
        "  y_logits = model_1(X_train).squeeze()\n",
        "  # print(y_logits.shape)\n",
        "  # raise\n",
        "\n",
        "  y_preds = torch.round(torch.sigmoid(y_logits))\n",
        "  # print(y_pred_probs.shape)\n",
        "  # raise\n",
        "  # y_preds = torch.round(y_pred_probs)\n",
        "\n",
        "  train_loss = loss_fn(y_logits, y_train) # y_logits because we are using the loss function BCEWithLogitsLoss() and it take the input as logits and we are using this loss function because it provides numerical stability.\n",
        "\n",
        "  acc = accuracy_fn(y_true=y_train, y_pred = y_preds)\n",
        "\n",
        "  optimizer.zero_grad()\n",
        "\n",
        "  train_loss.backward()\n",
        "\n",
        "  optimizer.step()\n",
        "\n",
        "  ### Testing\n",
        "  model_1.eval()\n",
        "  with torch.inference_mode():\n",
        "    test_logits = model_1(X_test).squeeze()\n",
        "    test_preds = torch.round(torch.sigmoid(test_logits))\n",
        "\n",
        "    test_loss = loss_fn(test_logits, y_test)\n",
        "    test_acc = accuracy_fn(y_true=y_test, y_pred=test_preds)\n",
        "\n",
        "  if epoch%10 == 0:\n",
        "    print(f\"Epoch: {epoch+1}/{epochs} | Train loss: {train_loss:.5f}, Train acc: {acc:.2f}% | Test loss: {test_loss:.5f}, Test acc: {test_acc:.2f}%\")"
      ],
      "metadata": {
        "colab": {
          "base_uri": "https://localhost:8080/"
        },
        "id": "AxsSXDajvyGF",
        "outputId": "a97b5aea-01cc-4329-b8cb-964986e7286c"
      },
      "execution_count": null,
      "outputs": [
        {
          "output_type": "stream",
          "name": "stdout",
          "text": [
            "Epoch: 1/100 | Train loss: 0.00036, Train acc: 100.00% | Test loss: 0.00409, Test acc: 100.00%\n",
            "Epoch: 11/100 | Train loss: 0.00035, Train acc: 100.00% | Test loss: 0.00416, Test acc: 100.00%\n",
            "Epoch: 21/100 | Train loss: 0.00034, Train acc: 100.00% | Test loss: 0.00429, Test acc: 100.00%\n",
            "Epoch: 31/100 | Train loss: 0.00034, Train acc: 100.00% | Test loss: 0.00435, Test acc: 100.00%\n",
            "Epoch: 41/100 | Train loss: 0.00033, Train acc: 100.00% | Test loss: 0.00454, Test acc: 100.00%\n",
            "Epoch: 51/100 | Train loss: 0.00032, Train acc: 100.00% | Test loss: 0.00459, Test acc: 100.00%\n",
            "Epoch: 61/100 | Train loss: 0.00032, Train acc: 100.00% | Test loss: 0.00473, Test acc: 100.00%\n",
            "Epoch: 71/100 | Train loss: 0.00031, Train acc: 100.00% | Test loss: 0.00485, Test acc: 100.00%\n",
            "Epoch: 81/100 | Train loss: 0.00030, Train acc: 100.00% | Test loss: 0.00494, Test acc: 100.00%\n",
            "Epoch: 91/100 | Train loss: 0.00030, Train acc: 100.00% | Test loss: 0.00520, Test acc: 100.00%\n"
          ]
        }
      ]
    },
    {
      "cell_type": "code",
      "source": [
        "A = torch.arange(-10, 10)\n",
        "A"
      ],
      "metadata": {
        "colab": {
          "base_uri": "https://localhost:8080/"
        },
        "id": "Y0IUMS-5dEbV",
        "outputId": "af445ce1-df8d-4f39-ddea-0c81d5cb2b69"
      },
      "execution_count": null,
      "outputs": [
        {
          "output_type": "execute_result",
          "data": {
            "text/plain": [
              "tensor([-10,  -9,  -8,  -7,  -6,  -5,  -4,  -3,  -2,  -1,   0,   1,   2,   3,\n",
              "          4,   5,   6,   7,   8,   9])"
            ]
          },
          "metadata": {},
          "execution_count": 102
        }
      ]
    },
    {
      "cell_type": "code",
      "source": [
        "plt.plot(A)"
      ],
      "metadata": {
        "colab": {
          "base_uri": "https://localhost:8080/",
          "height": 447
        },
        "id": "Uvg-NBjmdEYe",
        "outputId": "95ab3390-2ed3-4336-a1e0-cf0491a32728"
      },
      "execution_count": null,
      "outputs": [
        {
          "output_type": "execute_result",
          "data": {
            "text/plain": [
              "[<matplotlib.lines.Line2D at 0x7bc3e85c4a30>]"
            ]
          },
          "metadata": {},
          "execution_count": 106
        },
        {
          "output_type": "display_data",
          "data": {
            "text/plain": [
              "<Figure size 640x480 with 1 Axes>"
            ],
            "image/png": "[encoded data removed]"
          },
          "metadata": {}
        }
      ]
    },
    {
      "cell_type": "code",
      "source": [
        "plt.plot(torch.sigmoid(A))"
      ],
      "metadata": {
        "colab": {
          "base_uri": "https://localhost:8080/",
          "height": 447
        },
        "id": "VU3c4ADIdETd",
        "outputId": "2de471ba-f966-4df6-f4f6-2b87cb90bb17"
      },
      "execution_count": null,
      "outputs": [
        {
          "output_type": "execute_result",
          "data": {
            "text/plain": [
              "[<matplotlib.lines.Line2D at 0x7bc3e85d9120>]"
            ]
          },
          "metadata": {},
          "execution_count": 107
        },
        {
          "output_type": "display_data",
          "data": {
            "text/plain": [
              "<Figure size 640x480 with 1 Axes>"
            ],
            "image/png": "[encoded data removed]"
          },
          "metadata": {}
        }
      ]
    },
    {
      "cell_type": "code",
      "source": [
        "plt.plot(torch.relu(A))"
      ],
      "metadata": {
        "colab": {
          "base_uri": "https://localhost:8080/",
          "height": 447
        },
        "id": "SMvHokwQdEQx",
        "outputId": "533b498e-057e-40c1-94e4-15439d7476e9"
      },
      "execution_count": null,
      "outputs": [
        {
          "output_type": "execute_result",
          "data": {
            "text/plain": [
              "[<matplotlib.lines.Line2D at 0x7bc3e8688cd0>]"
            ]
          },
          "metadata": {},
          "execution_count": 110
        },
        {
          "output_type": "display_data",
          "data": {
            "text/plain": [
              "<Figure size 640x480 with 1 Axes>"
            ],
            "image/png": "[encoded data removed]"
          },
          "metadata": {}
        }
      ]
    },
    {
      "cell_type": "markdown",
      "source": [
        "## 8. Putting it all together with a multi-class classification problem"
      ],
      "metadata": {
        "id": "hpNyERxrw6nO"
      }
    },
    {
      "cell_type": "markdown",
      "source": [
        "### 8.1 Creating a toy multi-class dataset"
      ],
      "metadata": {
        "id": "DqP9wcLlxcKO"
      }
    },
    {
      "cell_type": "code",
      "source": [
        "# 1. import dependencies\n",
        "import torch\n",
        "import matplotlib.pyplot as plt\n",
        "from sklearn.datasets import make_blobs\n",
        "from sklearn.model_selection import train_test_split\n",
        "\n",
        "NUM_SAMPLES = 1000\n",
        "NUM_FEATURES = 2\n",
        "NUM_CLASSES = 4\n",
        "RANDOM_SEED = 42\n",
        "\n",
        "X_blob, y_blob = make_blobs(n_samples=NUM_SAMPLES,\n",
        "                            n_features=NUM_FEATURES,\n",
        "                            centers=NUM_CLASSES,\n",
        "                            cluster_std=1.5,\n",
        "                            random_state=RANDOM_SEED)\n",
        "\n",
        "# Converting dataset from numpy to tensors\n",
        "X_blob, y_blob = torch.from_numpy(X_blob).type(torch.float), torch.from_numpy(y_blob).type(torch.LongTensor)\n",
        "\n",
        "# Creating splits in dataset\n",
        "X_blob_train, X_blob_test, y_blob_train, y_blob_test = train_test_split(X_blob,\n",
        "                                                                        y_blob,\n",
        "                                                                        test_size=0.2,\n",
        "                                                                        random_state=RANDOM_SEED)\n",
        "\n",
        "# print(X_blob_train.dtype  )\n",
        "\n",
        "# Visulaizing the dataset\n",
        "plt.figure(figsize=(10, 7))\n",
        "plt.scatter(X_blob[:,0], X_blob[:,1], c=y_blob, cmap=plt.cm.RdYlBu)"
      ],
      "metadata": {
        "colab": {
          "base_uri": "https://localhost:8080/",
          "height": 546
        },
        "id": "y12xf8HpxjEg",
        "outputId": "07ef2d30-6ca9-4d0c-feb1-c1c243717311"
      },
      "execution_count": null,
      "outputs": [
        {
          "output_type": "execute_result",
          "data": {
            "text/plain": [
              "<matplotlib.collections.PathCollection at 0x7bc3e7e6f850>"
            ]
          },
          "metadata": {},
          "execution_count": 164
        },
        {
          "output_type": "display_data",
          "data": {
            "text/plain": [
              "<Figure size 1000x700 with 1 Axes>"
            ],
            "image/png": "[encoded data removed]"
          },
          "metadata": {}
        }
      ]
    },
    {
      "cell_type": "markdown",
      "source": [
        "### 8.2 Building a multi-class classification model"
      ],
      "metadata": {
        "id": "WpscWEnCzhB4"
      }
    },
    {
      "cell_type": "code",
      "source": [
        "# Setup device agnostic code\n",
        "device = \"cuda\" if torch.cuda.is_available() else \"cpu\"\n",
        "device"
      ],
      "metadata": {
        "colab": {
          "base_uri": "https://localhost:8080/",
          "height": 35
        },
        "id": "t-u0rHLd1w_b",
        "outputId": "700a303e-2880-4898-c9c9-68b84d117b36"
      },
      "execution_count": null,
      "outputs": [
        {
          "output_type": "execute_result",
          "data": {
            "text/plain": [
              "'cpu'"
            ],
            "application/vnd.google.colaboratory.intrinsic+json": {
              "type": "string"
            }
          },
          "metadata": {},
          "execution_count": 165
        }
      ]
    },
    {
      "cell_type": "code",
      "source": [
        "# Building a multi-class classifictaion model\n",
        "class BlobModel(nn.Module):\n",
        "  def __init__(self, in_features, out_features, hidden_size=8):\n",
        "    super().__init__()\n",
        "\n",
        "    self.stack_layers = nn.Sequential(nn.Linear(in_features=in_features,\n",
        "                                                out_features=hidden_size),\n",
        "                                      nn.ReLU(),\n",
        "                                      nn.Linear(hidden_size, hidden_size),\n",
        "                                      nn.ReLU(),\n",
        "                                      nn.Linear(hidden_size, out_features))\n",
        "\n",
        "  def forward(self, x):\n",
        "    return self.stack_layers(x)\n",
        "\n",
        "# Create model instance and send it to target device\n",
        "model_2 = BlobModel(in_features=2,\n",
        "                    out_features=4,\n",
        "                    hidden_size=8)\n",
        "model_2"
      ],
      "metadata": {
        "colab": {
          "base_uri": "https://localhost:8080/"
        },
        "id": "rAnD0akv1w8D",
        "outputId": "16c4b3ac-9e7f-4bc1-bca6-2e9276b46e6f"
      },
      "execution_count": null,
      "outputs": [
        {
          "output_type": "execute_result",
          "data": {
            "text/plain": [
              "BlobModel(\n",
              "  (stack_layers): Sequential(\n",
              "    (0): Linear(in_features=2, out_features=8, bias=True)\n",
              "    (1): ReLU()\n",
              "    (2): Linear(in_features=8, out_features=8, bias=True)\n",
              "    (3): ReLU()\n",
              "    (4): Linear(in_features=8, out_features=4, bias=True)\n",
              "  )\n",
              ")"
            ]
          },
          "metadata": {},
          "execution_count": 166
        }
      ]
    },
    {
      "cell_type": "markdown",
      "source": [
        "### 8.3 Creating a loss function and optimizer for multi-class classification"
      ],
      "metadata": {
        "id": "4Y-MOZT91w4z"
      }
    },
    {
      "cell_type": "code",
      "source": [
        "loss_fn = torch.nn.CrossEntropyLoss()\n",
        "\n",
        "optimizer = torch.optim.Adam(params=model_2.parameters(),\n",
        "                             lr=0.01)"
      ],
      "metadata": {
        "id": "1_O2v4Rr1w12"
      },
      "execution_count": null,
      "outputs": []
    },
    {
      "cell_type": "markdown",
      "source": [
        "### 8.4 Getting prediction probabilities for multi-class PyTorch model\n",
        "\n",
        "In order to evaluate and train and test our model, we need to convert our model's outputs (logits) to prediction probabilities to prediction labels.\n",
        "\n",
        "Logits (raw output of the model) -> Pred probs (use `torch.softmax`) -> Pred labels (take the argmax of the predicted probabilities)"
      ],
      "metadata": {
        "id": "h4g1ytb31wzE"
      }
    },
    {
      "cell_type": "code",
      "source": [
        "model_2.eval()\n",
        "with torch.inference_mode():\n",
        "  y_logits = model_2(X_blob_test.to(device))\n",
        "  # print(y_logits)\n",
        "  # print(y_blob_test)\n",
        "\n",
        "y_logits[:10]"
      ],
      "metadata": {
        "colab": {
          "base_uri": "https://localhost:8080/"
        },
        "id": "dfNgrbqd1wvt",
        "outputId": "ed7efb38-3911-4f62-9486-6733a4736dbc"
      },
      "execution_count": null,
      "outputs": [
        {
          "output_type": "execute_result",
          "data": {
            "text/plain": [
              "tensor([[-0.1918,  0.0793, -0.3977,  0.0698],\n",
              "        [-1.0829,  0.0888, -0.1019, -0.8649],\n",
              "        [-0.1488,  0.6883,  0.8175,  0.1347],\n",
              "        [-0.1744,  0.0060, -0.3703,  0.1615],\n",
              "        [-0.7600,  0.0421, -0.5652, -0.4514],\n",
              "        [-1.2423,  0.1086, -0.0630, -1.0634],\n",
              "        [-0.1787,  0.8435,  0.9319,  0.0764],\n",
              "        [-0.8615,  0.0244, -0.3904, -0.5838],\n",
              "        [-0.1119,  0.5706,  0.7521,  0.1776],\n",
              "        [-0.8304,  0.0225, -0.4394, -0.5460]])"
            ]
          },
          "metadata": {},
          "execution_count": 168
        }
      ]
    },
    {
      "cell_type": "code",
      "source": [
        "y_blob_test[:10]"
      ],
      "metadata": {
        "colab": {
          "base_uri": "https://localhost:8080/"
        },
        "id": "1NdF9K9S1ws3",
        "outputId": "9ec3baf5-0701-4433-c6ff-abb9d26b3bce"
      },
      "execution_count": null,
      "outputs": [
        {
          "output_type": "execute_result",
          "data": {
            "text/plain": [
              "tensor([1, 3, 2, 1, 0, 3, 2, 0, 2, 0])"
            ]
          },
          "metadata": {},
          "execution_count": 169
        }
      ]
    },
    {
      "cell_type": "markdown",
      "source": [
        "### 8.5 Creating a training and testing loop for a multi-class PyTorch model."
      ],
      "metadata": {
        "id": "zx0LUFuU1wqI"
      }
    },
    {
      "cell_type": "code",
      "source": [
        "epochs = 100\n",
        "\n",
        "X_blob_train, X_blob_test, y_blob_train, y_blob_test = X_blob_train.to(device), X_blob_test.to(device), y_blob_train.to(device), y_blob_test.to(device)\n",
        "\n",
        "for epoch in range(epochs):\n",
        "  model_2.train()\n",
        "\n",
        "  y_logits = model_2(X_blob_train)\n",
        "  y_preds = torch.argmax(torch.softmax(y_logits, dim=1), dim=1)\n",
        "  # print(y_logits.shape, y_blob_train.shape)\n",
        "  # raise\n",
        "\n",
        "  loss = loss_fn(y_logits, y_blob_train)\n",
        "  acc = accuracy_fn(y_true=y_blob_train,\n",
        "                    y_pred=y_preds)\n",
        "\n",
        "  optimizer.zero_grad()\n",
        "\n",
        "  loss.backward()\n",
        "\n",
        "  optimizer.step()\n",
        "\n",
        "  model_2.eval()\n",
        "  with torch.inference_mode():\n",
        "    y_test_logits = model_2(X_blob_test)\n",
        "    y_test_preds = torch.argmax(torch.softmax(y_test_logits, dim=1), dim=1)\n",
        "\n",
        "    test_loss = loss_fn(y_test_logits, y_blob_test)\n",
        "    test_acc = accuracy_fn(y_true=y_blob_test,\n",
        "                           y_pred=y_test_preds)\n",
        "\n",
        "  if epoch%10==0:\n",
        "    print(f\"Epoch: {epoch}/{epochs} | Training loss: {loss:.4f}, Training acc: {acc:.2f} | Testing loss: {test_loss:.4f}, Testing acc:{test_acc:.2f}\")"
      ],
      "metadata": {
        "colab": {
          "base_uri": "https://localhost:8080/"
        },
        "id": "Xh7tGCVt1wna",
        "outputId": "8afbe62e-6245-496f-e8f9-52abb7e4a709"
      },
      "execution_count": null,
      "outputs": [
        {
          "output_type": "stream",
          "name": "stdout",
          "text": [
            "Epoch: 0/100 | Training loss: 0.0235, Training acc: 99.25 | Testing loss: 0.0130, Testing acc:99.50\n",
            "Epoch: 10/100 | Training loss: 0.0230, Training acc: 99.25 | Testing loss: 0.0126, Testing acc:99.50\n",
            "Epoch: 20/100 | Training loss: 0.0226, Training acc: 99.25 | Testing loss: 0.0121, Testing acc:99.50\n",
            "Epoch: 30/100 | Training loss: 0.0223, Training acc: 99.25 | Testing loss: 0.0116, Testing acc:99.50\n",
            "Epoch: 40/100 | Training loss: 0.0219, Training acc: 99.25 | Testing loss: 0.0113, Testing acc:99.50\n",
            "Epoch: 50/100 | Training loss: 0.0216, Training acc: 99.25 | Testing loss: 0.0109, Testing acc:99.50\n",
            "Epoch: 60/100 | Training loss: 0.0214, Training acc: 99.25 | Testing loss: 0.0106, Testing acc:99.50\n",
            "Epoch: 70/100 | Training loss: 0.0211, Training acc: 99.25 | Testing loss: 0.0103, Testing acc:99.50\n",
            "Epoch: 80/100 | Training loss: 0.0209, Training acc: 99.38 | Testing loss: 0.0100, Testing acc:99.50\n",
            "Epoch: 90/100 | Training loss: 0.0206, Training acc: 99.50 | Testing loss: 0.0098, Testing acc:99.50\n"
          ]
        }
      ]
    },
    {
      "cell_type": "code",
      "source": [],
      "metadata": {
        "id": "rw3LhO9AS3Ma"
      },
      "execution_count": null,
      "outputs": []
    },
    {
      "cell_type": "code",
      "source": [],
      "metadata": {
        "id": "MI7UQOD0S3I7"
      },
      "execution_count": null,
      "outputs": []
    },
    {
      "cell_type": "code",
      "source": [],
      "metadata": {
        "id": "CO1W9J7iS3GY"
      },
      "execution_count": null,
      "outputs": []
    },
    {
      "cell_type": "code",
      "source": [],
      "metadata": {
        "id": "LiifGM39S3D3"
      },
      "execution_count": null,
      "outputs": []
    },
    {
      "cell_type": "code",
      "source": [],
      "metadata": {
        "id": "GvzQoEkYS27r"
      },
      "execution_count": null,
      "outputs": []
    },
    {
      "cell_type": "code",
      "source": [],
      "metadata": {
        "id": "wjwmavm2S24T"
      },
      "execution_count": null,
      "outputs": []
    },
    {
      "cell_type": "code",
      "source": [],
      "metadata": {
        "id": "A4r1lZxNS21-"
      },
      "execution_count": null,
      "outputs": []
    },
    {
      "cell_type": "code",
      "source": [],
      "metadata": {
        "id": "Oih0qfvvS2zV"
      },
      "execution_count": null,
      "outputs": []
    },
    {
      "cell_type": "code",
      "source": [],
      "metadata": {
        "id": "ZR1SGbV91wkj"
      },
      "execution_count": null,
      "outputs": []
    },
    {
      "cell_type": "code",
      "source": [],
      "metadata": {
        "id": "MSflgNMS1whi"
      },
      "execution_count": null,
      "outputs": []
    },
    {
      "cell_type": "code",
      "source": [],
      "metadata": {
        "id": "eecCInsS1weO"
      },
      "execution_count": null,
      "outputs": []
    }
  ]
}